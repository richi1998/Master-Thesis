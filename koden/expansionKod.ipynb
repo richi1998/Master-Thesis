{
 "cells": [
  {
   "cell_type": "markdown",
   "metadata": {},
   "source": [
    "Code for expanding the lexicon"
   ]
  },
  {
   "cell_type": "code",
   "execution_count": 1,
   "metadata": {},
   "outputs": [
    {
     "name": "stdout",
     "output_type": "stream",
     "text": [
      "Conversion completed. CSV file saved as saldo20v03CSV.csv\n"
     ]
    }
   ],
   "source": [
    "import csv\n",
    "\n",
    "def convert_text_to_csv(input_file, output_file):\n",
    "    # Open the input text file for reading\n",
    "    with open(input_file, 'r', encoding='utf-8') as f:\n",
    "        # Skip lines until the first line starting with underscore\n",
    "        for line in f:\n",
    "            if line.startswith('_'):\n",
    "                break\n",
    "        \n",
    "        # Initialize a list to store the data\n",
    "        data = []\n",
    "        \n",
    "        # Read the remaining lines\n",
    "        for line in f:\n",
    "            # Split the line by tabs and remove leading/trailing whitespace\n",
    "            columns = line.strip().split('\\t')\n",
    "            \n",
    "            # Append the columns to the data list\n",
    "            data.append(columns)\n",
    "\n",
    "    # Open the output CSV file for writing\n",
    "    with open(output_file, 'w', newline='', encoding='utf-8') as f:\n",
    "        # Create a CSV writer object\n",
    "        writer = csv.writer(f)\n",
    "        \n",
    "        # Write the data to the CSV file\n",
    "        writer.writerows(data)\n",
    "\n",
    "    print(\"Conversion completed. CSV file saved as\", output_file)\n",
    "\n",
    "# Example usage:\n",
    "input_file_path = 'saldo20v03.txt'\n",
    "output_file_path = 'saldo20v03CSV.csv'\n",
    "convert_text_to_csv(input_file_path, output_file_path)"
   ]
  },
  {
   "cell_type": "code",
   "execution_count": 8,
   "metadata": {},
   "outputs": [
    {
     "name": "stdout",
     "output_type": "stream",
     "text": [
      "Conversion complete. The CSV file is saved at sensaldo.csv.\n"
     ]
    }
   ],
   "source": [
    "import csv\n",
    "\n",
    "# Path to the SenSALDO text file (as uploaded)\n",
    "sensaldo_path = 'sensaldo-base-v02.txt'\n",
    "\n",
    "# Path to the output CSV file\n",
    "sensaldo_csv_path = 'sensaldo.csv'\n",
    "\n",
    "# Open the SenSALDO file and create a CSV file for output\n",
    "with open(sensaldo_path, 'r', encoding='utf-8') as infile, \\\n",
    "     open(sensaldo_csv_path, 'w', newline='', encoding='utf-8') as outfile:\n",
    "    writer = csv.writer(outfile)\n",
    "    \n",
    "    # Write the headers for the CSV file\n",
    "    headers = ['SALDO sense ID', 'polarity label']\n",
    "    writer.writerow(headers)\n",
    "    \n",
    "    # Read the SenSALDO file line by line\n",
    "    for line in infile:\n",
    "        # Skip empty lines and lines starting with '#' (comments)\n",
    "        if not line.strip() or line.startswith('#'):\n",
    "            continue\n",
    "        \n",
    "        # Split the line into components based on tabs\n",
    "        sense_id, polarity = line.strip().split('\\t')\n",
    "        \n",
    "        # Write the components to the CSV file\n",
    "        writer.writerow([sense_id, polarity])\n",
    "\n",
    "print(f\"Conversion complete. The CSV file is saved at {sensaldo_csv_path}.\")"
   ]
  },
  {
   "cell_type": "code",
   "execution_count": null,
   "metadata": {},
   "outputs": [],
   "source": []
  },
  {
   "cell_type": "code",
   "execution_count": null,
   "metadata": {},
   "outputs": [],
   "source": []
  }
 ],
 "metadata": {
  "kernelspec": {
   "display_name": "dml",
   "language": "python",
   "name": "python3"
  },
  "language_info": {
   "codemirror_mode": {
    "name": "ipython",
    "version": 3
   },
   "file_extension": ".py",
   "mimetype": "text/x-python",
   "name": "python",
   "nbconvert_exporter": "python",
   "pygments_lexer": "ipython3",
   "version": "3.9.18"
  }
 },
 "nbformat": 4,
 "nbformat_minor": 2
}
