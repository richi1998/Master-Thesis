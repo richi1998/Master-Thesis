{
 "cells": [
  {
   "cell_type": "code",
   "execution_count": 39,
   "metadata": {},
   "outputs": [
    {
     "name": "stdout",
     "output_type": "stream",
     "text": [
      "CSV file created at: testtestdata.csv\n"
     ]
    }
   ],
   "source": [
    "import xml.etree.ElementTree as ET\n",
    "import pandas as pd\n",
    "\n",
    "\n",
    "def xml_to_csv(xml_path):\n",
    "    tree = ET.parse(xml_path)\n",
    "    root = tree.getroot()\n",
    "    \n",
    "    data = []\n",
    "    paragrafnummer = 1  # Initialize XML structure\n",
    "    \n",
    "    for paragraph in root.findall('.//paragraph'):\n",
    "        for sentence in paragraph.findall('.//sentence'):\n",
    "            for word in sentence.findall('.//w'):\n",
    "                data.append({\n",
    "                    \"paragrafnummer\": paragrafnummer,\n",
    "                    \"token\": word.text,\n",
    "                    \"msd\": word.get('msd', ''),\n",
    "                    \"lemma\": word.get('lemma', ''),\n",
    "                    \"lex\": word.get('lex', ''),\n",
    "                    \"sense\": word.get('sense', ''),\n",
    "                    \"complemgram\": word.get('complemgram', ''),\n",
    "                    \"compwf\": word.get('compwf', ''),\n",
    "                    \"sentimentclass\": word.get('sentimentclass', ''),\n",
    "                    \"deprel\": word.get('deprel', '')\n",
    "                })\n",
    "        paragrafnummer += 1  # Increment for each paragraph\n",
    "    \n",
    "    df = pd.DataFrame(data)\n",
    "    csv_path = xml_path.replace('.xml', '.csv')  # Or specify your own path\n",
    "    df.to_csv(csv_path, index=False)\n",
    "    return csv_path\n",
    "\n",
    "# Use the function\n",
    "xml_path = 'testtestdata.xml'\n",
    "csv_path = xml_to_csv(xml_path)\n",
    "print(f\"CSV file created at: {csv_path}\")\n"
   ]
  },
  {
   "cell_type": "code",
   "execution_count": 40,
   "metadata": {},
   "outputs": [],
   "source": [
    "testtestdata_df= pd.read_csv('testtestdata.csv', encoding='utf-8')\n",
    "testtestorg_df=pd.read_csv('testtestorg.csv', header=None, names=['paragrafnummer', 'sentence', 'category'], encoding='utf-8')"
   ]
  },
  {
   "cell_type": "code",
   "execution_count": 41,
   "metadata": {},
   "outputs": [
    {
     "name": "stdout",
     "output_type": "stream",
     "text": [
      "Final corrected CSV saved to: final_corrected_testtestdata.csv\n"
     ]
    }
   ],
   "source": [
    "\n",
    "\n",
    "# Add paragrafnummer from testtestorg to testtestdata\n",
    "testtestdata_df['sentimentval'] = testtestdata_df['paragrafnummer'].apply(\n",
    "    lambda x: testtestorg_df.at[x-1, 'paragrafnummer'] if x-1 < len(testtestorg_df) else None\n",
    ")\n",
    "\n",
    "# Map the category from testtestorg to testtestdata\n",
    "testtestdata_df['category'] = testtestdata_df['paragrafnummer'].apply(\n",
    "    lambda x: testtestorg_df.at[x-1, 'category'] if x-1 < len(testtestorg_df) else None\n",
    ")\n",
    "\n",
    "# Replace âˆ’ with - in the entire DataFrame\n",
    "testtestdata_df = testtestdata_df.replace('−', '-', regex=True)\n",
    "\n",
    "# Save the final corrected DataFrame to a new CSV file\n",
    "final_csv_path = 'final_corrected_testtestdata.csv'\n",
    "testtestdata_df.to_csv(final_csv_path, index=False)\n",
    "\n",
    "print(f\"Final corrected CSV saved to: {final_csv_path}\")\n"
   ]
  },
  {
   "cell_type": "code",
   "execution_count": 42,
   "metadata": {},
   "outputs": [
    {
     "name": "stdout",
     "output_type": "stream",
     "text": [
      "[ 1  0 -1]\n"
     ]
    }
   ],
   "source": [
    "df= pd.read_csv('final_corrected_testtestdata.csv')\n",
    "unique_values = df['sentimentval'].unique()\n",
    "print(unique_values)\n"
   ]
  },
  {
   "cell_type": "code",
   "execution_count": null,
   "metadata": {},
   "outputs": [],
   "source": []
  }
 ],
 "metadata": {
  "kernelspec": {
   "display_name": "Python 3",
   "language": "python",
   "name": "python3"
  },
  "language_info": {
   "codemirror_mode": {
    "name": "ipython",
    "version": 3
   },
   "file_extension": ".py",
   "mimetype": "text/x-python",
   "name": "python",
   "nbconvert_exporter": "python",
   "pygments_lexer": "ipython3",
   "version": "3.9.13"
  }
 },
 "nbformat": 4,
 "nbformat_minor": 2
}
